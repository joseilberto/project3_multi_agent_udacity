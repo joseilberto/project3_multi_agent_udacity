{
 "cells": [
  {
   "cell_type": "markdown",
   "metadata": {},
   "source": [
    "# Collaboration and Competition\n",
    "\n",
    "---\n",
    "\n",
    "You are welcome to use this coding environment to train your agent for the project.  Follow the instructions below to get started!\n",
    "\n",
    "### 1. Start the Environment\n",
    "\n",
    "Run the next code cell to install a few packages.  This line will take a few minutes to run!"
   ]
  },
  {
   "cell_type": "code",
   "execution_count": null,
   "metadata": {},
   "outputs": [],
   "source": [
    "!pip -q install ./python"
   ]
  },
  {
   "cell_type": "markdown",
   "metadata": {},
   "source": [
    "The environment is already saved in the Workspace and can be accessed at the file path provided below. "
   ]
  },
  {
   "cell_type": "code",
   "execution_count": 1,
   "metadata": {},
   "outputs": [
    {
     "name": "stderr",
     "output_type": "stream",
     "text": [
      "INFO:unityagents:\n",
      "'Academy' started successfully!\n",
      "Unity Academy name: Academy\n",
      "        Number of Brains: 1\n",
      "        Number of External Brains : 1\n",
      "        Lesson number : 0\n",
      "        Reset Parameters :\n",
      "\t\t\n",
      "Unity brain name: TennisBrain\n",
      "        Number of Visual Observations (per agent): 0\n",
      "        Vector Observation space type: continuous\n",
      "        Vector Observation space size (per agent): 8\n",
      "        Number of stacked Vector Observation: 3\n",
      "        Vector Action space type: continuous\n",
      "        Vector Action space size (per agent): 2\n",
      "        Vector Action descriptions: , \n"
     ]
    }
   ],
   "source": [
    "from unityagents import UnityEnvironment\n",
    "import numpy as np\n",
    "import os\n",
    "\n",
    "env = UnityEnvironment(file_name=os.path.join(\".\", \"data\", \"Tennis.exe\"))"
   ]
  },
  {
   "cell_type": "markdown",
   "metadata": {},
   "source": [
    "Environments contain **_brains_** which are responsible for deciding the actions of their associated agents. Here we check for the first brain available, and set it as the default brain we will be controlling from Python."
   ]
  },
  {
   "cell_type": "code",
   "execution_count": 4,
   "metadata": {},
   "outputs": [],
   "source": [
    "# get the default brain\n",
    "brain_name = env.brain_names[0]\n",
    "brain = env.brains[brain_name]"
   ]
  },
  {
   "cell_type": "markdown",
   "metadata": {},
   "source": [
    "### 2. Examine the State and Action Spaces\n",
    "\n",
    "Run the code cell below to print some information about the environment."
   ]
  },
  {
   "cell_type": "code",
   "execution_count": 5,
   "metadata": {},
   "outputs": [
    {
     "name": "stdout",
     "output_type": "stream",
     "text": [
      "Number of agents: 2\n",
      "Size of each action: 2\n",
      "There are 2 agents. Each observes a state with length: 24\n",
      "The state for the first agent looks like: [ 0.          0.          0.          0.          0.          0.\n",
      "  0.          0.          0.          0.          0.          0.\n",
      "  0.          0.          0.          0.         -6.65278625 -1.5\n",
      " -0.          0.          6.83172083  6.         -0.          0.        ]\n"
     ]
    }
   ],
   "source": [
    "# reset the environment\n",
    "env_info = env.reset(train_mode=True)[brain_name]\n",
    "\n",
    "# number of agents \n",
    "num_agents = len(env_info.agents)\n",
    "print('Number of agents:', num_agents)\n",
    "\n",
    "# size of each action\n",
    "action_size = brain.vector_action_space_size\n",
    "print('Size of each action:', action_size)\n",
    "\n",
    "# examine the state space \n",
    "states = env_info.vector_observations\n",
    "state_size = states.shape[1]\n",
    "print('There are {} agents. Each observes a state with length: {}'.format(states.shape[0], state_size))\n",
    "print('The state for the first agent looks like:', states[0])"
   ]
  },
  {
   "cell_type": "markdown",
   "metadata": {},
   "source": [
    "### 3. Take Random Actions in the Environment\n",
    "\n",
    "In the next code cell, you will learn how to use the Python API to control the agent and receive feedback from the environment.\n",
    "\n",
    "Note that **in this coding environment, you will not be able to watch the agents while they are training**, and you should set `train_mode=True` to restart the environment."
   ]
  },
  {
   "cell_type": "code",
   "execution_count": 9,
   "metadata": {},
   "outputs": [
    {
     "name": "stdout",
     "output_type": "stream",
     "text": [
      "Total score (averaged over agents) this episode: -0.004999999888241291\n",
      "Total score (averaged over agents) this episode: 0.09500000160187483\n",
      "Total score (averaged over agents) this episode: -0.004999999888241291\n",
      "Total score (averaged over agents) this episode: -0.004999999888241291\n",
      "Total score (averaged over agents) this episode: 0.09500000160187483\n"
     ]
    }
   ],
   "source": [
    "for i in range(5):                                         # play game for 5 episodes\n",
    "    env_info = env.reset(train_mode=False)[brain_name]     # reset the environment    \n",
    "    states = env_info.vector_observations                  # get the current state (for each agent)\n",
    "    scores = np.zeros(num_agents)                          # initialize the score (for each agent)\n",
    "    while True:\n",
    "        actions = np.random.randn(num_agents, action_size) # select an action (for each agent)\n",
    "        actions = np.clip(actions, -1, 1)                  # all actions between -1 and 1\n",
    "        env_info = env.step(actions)[brain_name]           # send all actions to tne environment\n",
    "        next_states = env_info.vector_observations         # get next state (for each agent)\n",
    "        rewards = env_info.rewards                         # get reward (for each agent)\n",
    "        dones = env_info.local_done                        # see if episode finished\n",
    "        scores += env_info.rewards                         # update the score (for each agent)\n",
    "        states = next_states                               # roll over states to next time step\n",
    "        if np.any(dones):                                  # exit loop if episode finished\n",
    "            break\n",
    "    print('Total score (averaged over agents) this episode: {}'.format(np.mean(scores)))"
   ]
  },
  {
   "cell_type": "markdown",
   "metadata": {},
   "source": [
    "When finished, you can close the environment."
   ]
  },
  {
   "cell_type": "code",
   "execution_count": 2,
   "metadata": {},
   "outputs": [],
   "source": [
    "env.close()"
   ]
  },
  {
   "cell_type": "markdown",
   "metadata": {},
   "source": [
    "### 4. It's Your Turn!\n",
    "\n",
    "Now it's your turn to train your own agent to solve the environment!  A few **important notes**:\n",
    "- When training the environment, set `train_mode=True`, so that the line for resetting the environment looks like the following:\n",
    "```python\n",
    "env_info = env.reset(train_mode=True)[brain_name]\n",
    "```\n",
    "- To structure your work, you're welcome to work directly in this Jupyter notebook, or you might like to start over with a new file!  You can see the list of files in the workspace by clicking on **_Jupyter_** in the top left corner of the notebook.\n",
    "- In this coding environment, you will not be able to watch the agents while they are training.  However, **_after training the agents_**, you can download the saved model weights to watch the agents on your own machine! "
   ]
  },
  {
   "cell_type": "markdown",
   "metadata": {},
   "source": [
    "### Visualization Tools ###\n",
    "\n",
    "Below we are defining some simple tools to help us visualize the data after training the agents."
   ]
  },
  {
   "cell_type": "code",
   "execution_count": 6,
   "metadata": {},
   "outputs": [],
   "source": [
    "import matplotlib.pyplot as plt\n",
    "import numpy as np\n",
    "\n",
    "def moving_average(array, n=3):\n",
    "    cumsum = np.cumsum(array, dtype=float)\n",
    "    cumsum[n:] = cumsum[n:] - cumsum[:-n]\n",
    "    return cumsum[n - 1:] / n\n",
    "\n",
    "\n",
    "def average_last_samples(array, n = 100):\n",
    "    array = np.array(array)\n",
    "    avg = []\n",
    "    for i in range(len(array)):\n",
    "        min_idx = max(0, i - n)\n",
    "        avg.append(array[min_idx:i].mean())\n",
    "    return avg        \n",
    "\n",
    "\n",
    "def show_scores(scores, threshold_value):\n",
    "    plt.figure(figsize = (10, 8))\n",
    "    plt.plot(scores, \".\", color = \"k\", label = \"score\")\n",
    "    plt.plot(average_last_samples(scores), \"-\", color = \"r\", label = \"Last 100 steps\")\n",
    "    plt.plot(moving_average(scores), \"-\", color = \"b\", label = \"Moving average (3 steps size)\")\n",
    "    plt.axhline(y = threshold_value, color = \"g\", linestyle = \"-.\", label = \"Avg last 100 steps reward threshold\")\n",
    "    plt.title(\"Rewards history during training\")\n",
    "    plt.legend()\n",
    "    plt.xlabel(\"Episode\")\n",
    "    plt.ylabel(\"Reward\")\n",
    "    plt.ylim((-1, 3))\n",
    "    plt.xlim((0, 2000))\n",
    "    plt.show()"
   ]
  },
  {
   "cell_type": "markdown",
   "metadata": {},
   "source": [
    "### Training Phase for the agents ###\n",
    "\n",
    "Now we are going to train the agents using a modified version of the DDPG algorithm. These agents will try to accumulate an average of 0.5 maximum reward (we are taking the maximum reward obtained by the two players in each episode) over the last 100 episodes. "
   ]
  },
  {
   "cell_type": "code",
   "execution_count": 2,
   "metadata": {},
   "outputs": [],
   "source": [
    "from collections import deque\n",
    "\n",
    "import numpy as np\n",
    "import os\n",
    "import torch\n",
    "\n",
    "def ddpg(agents, env, brain_name, output_folder, n_episodes=10000, reward_threshold = 0.5):\n",
    "    \"\"\"Deep Deterministic Policy Gradient.    \n",
    "    Params\n",
    "    ======\n",
    "        agents (list of Agent class type): A list of instances of the Agent Class that will be trained\n",
    "        env (UnityEnvironment): environment in which we are popping states to be processed by the agents\n",
    "        brain_name (string): The name of the current brain being used by the environment\n",
    "        n_episodes (int): maximum number of training episodes   \n",
    "        reward_threshold (float): The averaged reward over all agents in the last 100 episodes\n",
    "    \"\"\"    \n",
    "    scores_episode = []\n",
    "    scores_window = deque(maxlen = 100)\n",
    "    for i_episode in range(1, n_episodes + 1):\n",
    "        for agent in agents:\n",
    "            agent.reset()\n",
    "        scores = np.zeros(len(agents))\n",
    "        env_info = env.reset(train_mode = True)[brain_name]\n",
    "        states = env_info.vector_observations\n",
    "        while True:\n",
    "            actions = [agent.act(states[idx]) for idx, agent in enumerate(agents)]\n",
    "            env_info = env.step(actions)[brain_name]\n",
    "            next_states = env_info.vector_observations\n",
    "            rewards = env_info.rewards\n",
    "            dones = env_info.local_done\n",
    "            scores += rewards                        \n",
    "            for idx, agent in enumerate(agents):\n",
    "                agent.step(states[idx], actions[idx], rewards[idx], next_states[idx], dones[idx])\n",
    "            if np.any(dones):\n",
    "                break\n",
    "            states = next_states        \n",
    "        score = np.max(scores)\n",
    "        scores_window.append(score)\n",
    "        scores_episode.append(score)\n",
    "        end_liner = \"\\r\" if i_episode % 100 != 0 else \"\\n\"\n",
    "        print('\\rEpisode {}\\tEpisode Score: {:.2f}\\tAverage Score: {:.2f}'.format(i_episode, score, np.mean(scores_window)), end = end_liner)\n",
    "        if np.mean(scores_window) >= reward_threshold:\n",
    "            print()\n",
    "            print('\\nEnvironment solved in {:d} episodes!\\tAverage Score: {:.2f}'.format(i_episode-100, np.mean(scores_window)))            \n",
    "            os.makedirs(output_folder, exist_ok = True)\n",
    "            for idx, agent in enumerate(agents):\n",
    "                torch.save(agent.actor_local.state_dict(), os.path.join(output_folder, \"actor_{}_checkpoint.pth\".format(idx)))\n",
    "                torch.save(agent.critic_local.state_dict(), os.path.join(output_folder, \"critic_{}_checkpoint.pth\".format(idx)))\n",
    "            break\n",
    "    return scores_episode"
   ]
  },
  {
   "cell_type": "markdown",
   "metadata": {},
   "source": [
    "Now we instantiate the environment and the agents."
   ]
  },
  {
   "cell_type": "code",
   "execution_count": 3,
   "metadata": {},
   "outputs": [
    {
     "name": "stderr",
     "output_type": "stream",
     "text": [
      "INFO:unityagents:\n",
      "'Academy' started successfully!\n",
      "Unity Academy name: Academy\n",
      "        Number of Brains: 1\n",
      "        Number of External Brains : 1\n",
      "        Lesson number : 0\n",
      "        Reset Parameters :\n",
      "\t\t\n",
      "Unity brain name: TennisBrain\n",
      "        Number of Visual Observations (per agent): 0\n",
      "        Vector Observation space type: continuous\n",
      "        Vector Observation space size (per agent): 8\n",
      "        Number of stacked Vector Observation: 3\n",
      "        Vector Action space type: continuous\n",
      "        Vector Action space size (per agent): 2\n",
      "        Vector Action descriptions: , \n"
     ]
    },
    {
     "name": "stdout",
     "output_type": "stream",
     "text": [
      "Actor(\n",
      "  (fc1): Linear(in_features=24, out_features=128, bias=True)\n",
      "  (fc2): Linear(in_features=128, out_features=128, bias=True)\n",
      "  (fc3): Linear(in_features=128, out_features=2, bias=True)\n",
      "  (batch_norm): BatchNorm1d(128, eps=1e-05, momentum=0.1, affine=True, track_running_stats=True)\n",
      "  (activation): ReLU()\n",
      ")\n",
      "Critic(\n",
      "  (fc1): Linear(in_features=24, out_features=128, bias=True)\n",
      "  (fc2): Linear(in_features=130, out_features=128, bias=True)\n",
      "  (fc3): Linear(in_features=128, out_features=1, bias=True)\n",
      "  (batch_norm): BatchNorm1d(128, eps=1e-05, momentum=0.1, affine=True, track_running_stats=True)\n",
      "  (activation): ReLU()\n",
      ")\n"
     ]
    }
   ],
   "source": [
    "from unityagents import UnityEnvironment\n",
    "from agents import DDPG_Agent, ReplayBuffer\n",
    "from models import Actor\n",
    "\n",
    "import torch\n",
    "\n",
    "parameters_dict = {\n",
    "    \"buffer_size\": int(1e5),\n",
    "    \"batch_size\": 128,\n",
    "    \"gamma\": 0.99,\n",
    "    \"tau\": 1e-3,\n",
    "    \"lr_actor\": 2e-4,\n",
    "    \"lr_critic\": 2e-4,\n",
    "    \"weight_decay\": 0,\n",
    "    \"n_updates\": 1,\n",
    "    \"update_every_nsteps\": 1,\n",
    "    \"nhidden_actor\": [128, 128],\n",
    "    \"nhidden_critic\": [128, 128],\n",
    "    \"device\": torch.device(\"cuda:0\" if torch.cuda.is_available() else \"cpu\"),\n",
    "}\n",
    "\n",
    "env = UnityEnvironment(file_name=os.path.join(\".\", \"data\", \"Tennis.exe\"), no_graphics = True)\n",
    "brain_name = env.brain_names[0]\n",
    "brain = env.brains[brain_name]\n",
    "env_info = env.reset(train_mode=True)[brain_name]\n",
    "num_agents = len(env_info.agents)\n",
    "states = env_info.vector_observations\n",
    "action_size = brain.vector_action_space_size\n",
    "state_size = states.shape[1]\n",
    "seed = 0\n",
    "\n",
    "parameters_dict.update(\n",
    "    {\n",
    "        \"memory\": ReplayBuffer(action_size, parameters_dict[\"buffer_size\"], parameters_dict[\"batch_size\"], seed, parameters_dict[\"device\"]),\n",
    "#         \"actor_target\": Actor(state_size, action_size, seed, parameters_dict[\"nhidden_actor\"]).to(parameters_dict[\"device\"]),\n",
    "    }\n",
    ")\n",
    "\n",
    "agents = [DDPG_Agent(state_size, action_size, random_seed = seed, **parameters_dict) for i in range(num_agents)]\n",
    "print(agents[0].actor_target)\n",
    "print(agents[0].critic_target)"
   ]
  },
  {
   "cell_type": "code",
   "execution_count": 4,
   "metadata": {
    "scrolled": true
   },
   "outputs": [
    {
     "name": "stdout",
     "output_type": "stream",
     "text": [
      "Episode 100\tEpisode Score: 0.00\tAverage Score: 0.01\n",
      "Episode 200\tEpisode Score: 0.00\tAverage Score: 0.00\n",
      "Episode 300\tEpisode Score: 0.00\tAverage Score: 0.00\n",
      "Episode 400\tEpisode Score: 0.00\tAverage Score: 0.00\n",
      "Episode 500\tEpisode Score: 0.00\tAverage Score: 0.00\n",
      "Episode 600\tEpisode Score: 0.00\tAverage Score: 0.01\n",
      "Episode 700\tEpisode Score: 0.00\tAverage Score: 0.04\n",
      "Episode 800\tEpisode Score: 0.10\tAverage Score: 0.07\n",
      "Episode 900\tEpisode Score: 0.09\tAverage Score: 0.10\n",
      "Episode 1000\tEpisode Score: 0.10\tAverage Score: 0.09\n",
      "Episode 1100\tEpisode Score: 0.09\tAverage Score: 0.10\n",
      "Episode 1200\tEpisode Score: 0.09\tAverage Score: 0.10\n",
      "Episode 1300\tEpisode Score: 0.10\tAverage Score: 0.11\n",
      "Episode 1400\tEpisode Score: 0.09\tAverage Score: 0.11\n",
      "Episode 1491\tEpisode Score: 2.60\tAverage Score: 0.51\n",
      "\n",
      "Environment solved in 1391 episodes!\tAverage Score: 0.51\n"
     ]
    },
    {
     "data": {
      "image/png": "[encoded data removed]",
      "text/plain": [
       "<Figure size 432x288 with 1 Axes>"
      ]
     },
     "metadata": {
      "needs_background": "light"
     },
     "output_type": "display_data"
    }
   ],
   "source": [
    "reward_threshold = 0.5\n",
    "output_folder = os.path.join(\".\", \"trained_models\")\n",
    "scores = ddpg(agents, env, brain_name, output_folder, reward_threshold = reward_threshold)\n",
    "\n",
    "fig = plt.figure()\n",
    "ax = fig.add_subplot(111)\n",
    "plt.plot(np.arange(len(scores)), scores)\n",
    "plt.ylabel('Score')\n",
    "plt.xlabel('Episode #')\n",
    "plt.show()"
   ]
  },
  {
   "cell_type": "code",
   "execution_count": 7,
   "metadata": {},
   "outputs": [
    {
     "name": "stderr",
     "output_type": "stream",
     "text": [
      "C:\\Users\\ilberto\\anaconda3\\envs\\dlrnd\\lib\\site-packages\\ipykernel_launcher.py:15: RuntimeWarning: Mean of empty slice.\n",
      "  from ipykernel import kernelapp as app\n",
      "C:\\Users\\ilberto\\anaconda3\\envs\\dlrnd\\lib\\site-packages\\numpy\\core\\_methods.py:80: RuntimeWarning: invalid value encountered in double_scalars\n",
      "  ret = ret.dtype.type(ret / rcount)\n"
     ]
    },
    {
     "data": {
      "image/png": "[encoded data removed]",
      "text/plain": [
       "<Figure size 720x576 with 1 Axes>"
      ]
     },
     "metadata": {
      "needs_background": "light"
     },
     "output_type": "display_data"
    }
   ],
   "source": [
    "show_scores(scores, reward_threshold)"
   ]
  }
 ],
 "metadata": {
  "kernelspec": {
   "display_name": "Python 3",
   "language": "python",
   "name": "python3"
  },
  "language_info": {
   "codemirror_mode": {
    "name": "ipython",
    "version": 3
   },
   "file_extension": ".py",
   "mimetype": "text/x-python",
   "name": "python",
   "nbconvert_exporter": "python",
   "pygments_lexer": "ipython3",
   "version": "3.6.3"
  }
 },
 "nbformat": 4,
 "nbformat_minor": 2
}
